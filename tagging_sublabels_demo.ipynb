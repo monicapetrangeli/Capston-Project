{
 "cells": [
  {
   "cell_type": "code",
   "execution_count": 26,
   "metadata": {},
   "outputs": [],
   "source": [
    "import requests\n",
    "import json\n",
    "import cohere\n",
    "import pytesseract\n",
    "from pdfminer.high_level import extract_text\n",
    "from PIL import Image\n",
    "import os\n",
    "\n",
    "with open(\"cohere.key\") as f:\n",
    "    COHERE_API_KEY = f.read()\n",
    "\n",
    "cohere_client = cohere.Client(api_key=COHERE_API_KEY)\n",
    "\n",
    "api_url = \"https://api.cohere.ai/v1/generate\"\n",
    "\n",
    "headers = {\n",
    "    'Authorization': f'Bearer {COHERE_API_KEY}',\n",
    "    'Content-Type': 'application/json'\n",
    "}\n",
    "\n",
    "def extract_text_from_file(document):\n",
    "    \"\"\"\n",
    "    Extracts text from a document. Supports:\n",
    "    - PDFs (both selectable text and scanned PDFs using OCR)\n",
    "    - Images (JPG, PNG, JPEG, TIFF) using OCR\n",
    "    \"\"\"\n",
    "    try:\n",
    "        file_ext = document.lower().split(\".\")[-1]\n",
    "\n",
    "        if file_ext == \"pdf\":\n",
    "\n",
    "            text = extract_text(document).strip()\n",
    "            \n",
    "            if not text:\n",
    "                print(\"No selectable text found in PDF. Using OCR...\")\n",
    "                text = extract_text_from_images_in_pdf(document)\n",
    "\n",
    "        elif file_ext in [\"jpg\", \"png\", \"jpeg\", \"tiff\"]:\n",
    "            print(\"Processing image with OCR...\")\n",
    "            image = Image.open(document)\n",
    "            text = pytesseract.image_to_string(image).strip()\n",
    "        \n",
    "        else:\n",
    "            raise ValueError(\"Unsupported file type. Only PDFs and images (JPG, PNG, JPEG, TIFF) are supported.\")\n",
    "\n",
    "        return text\n",
    "\n",
    "    except Exception as e:\n",
    "        print(f\"Error extracting text: {e}\")\n",
    "        return None\n",
    "\n",
    "def extract_text_from_images_in_pdf(pdf_path):\n",
    "    \"\"\"\n",
    "    Converts a PDF to images and extracts text from each page using OCR.\n",
    "    Requires `pdf2image` (install via `pip install pdf2image`).\n",
    "    \"\"\"\n",
    "    from pdf2image import convert_from_path  # import only if needed\n",
    "\n",
    "    images = convert_from_path(pdf_path)\n",
    "    text = \"\"\n",
    "\n",
    "    for i, img in enumerate(images):\n",
    "        print(f\"Running OCR on page {i+1}...\")\n",
    "        text += pytesseract.image_to_string(img) + \"\\n\"\n",
    "\n",
    "    return text.strip()\n",
    "\n",
    "def upload_and_process(document, prompt=None):\n",
    "\n",
    "    if prompt is None:\n",
    "        \n",
    "        prompt = \"\"\"Label this document into one of the following categories: LEGAL, MEDICAL, EMAIL. \n",
    "        Add an appropriate sub-label:\n",
    "\n",
    "        Sub-labels of Legal:\n",
    "        - ACTS\n",
    "        - ACKNOWLEDGMENT OF RECEIPT\n",
    "        - OTHER\n",
    "        - RESOLUTIONS OR CLOSURE\n",
    "        - NOTICES\n",
    "        - REPORTS\n",
    "        - GUARANTEES OR DEPOSITS\n",
    "        - ADMINISTRATIVE\n",
    "        - PRELIMINARY PROCEEDINGS\n",
    "        - PAYMENTS OR COMPENSATIONS\n",
    "        - APPEAL\n",
    "        - POWER OF ATTORNEY\n",
    "        - SENTENCE\n",
    "\n",
    "        Sub-labels of Medical:\n",
    "        - OTHER\n",
    "        - REPORTS\n",
    "        - MEDICAL HISTORY\n",
    "        - MEDICAL CERTIFICATE\n",
    "        - INITIAL CLINICAL DIAGNOSIS\n",
    "        - SEQUELAE STABILIZATION\n",
    "\n",
    "        Return only the label and the sub-label separated by a comma. Example: LEGAL, ACKNOWLEDGMENT OF RECEIPT.\"\"\"\n",
    "\n",
    "    try:\n",
    "        content = extract_text_from_file(document)\n",
    "\n",
    "        if not content or len(content) < 5:\n",
    "            raise ValueError(\"Extracted text is too short. The document might be empty or unreadable.\")\n",
    "\n",
    "        data = {\n",
    "            \"model\": \"command-r-plus\",\n",
    "            \"prompt\": f\"{prompt}\\n\\n{content}\",\n",
    "            \"max_tokens\": 100,  # low because we only need a short response\n",
    "            \"temperature\": 0.3,\n",
    "        }\n",
    "\n",
    "        response = requests.post(api_url, headers=headers, json=data)\n",
    "\n",
    "        if response.status_code == 200:\n",
    "            return response.json()[\"generations\"][0][\"text\"]\n",
    "        else:\n",
    "            raise Exception(f\"API request failed with status code {response.status_code}: {response.text}\")\n",
    "\n",
    "    except FileNotFoundError:\n",
    "        print(f\"Error: File '{document}' not found.\")\n",
    "        return None\n",
    "    except ValueError as e:\n",
    "        print(f\"Error: {e}\")\n",
    "        return None\n",
    "    except requests.exceptions.RequestException as e:\n",
    "        print(f\"Error processing the file: {e}\")\n",
    "        return None"
   ]
  },
  {
   "cell_type": "code",
   "execution_count": 27,
   "metadata": {},
   "outputs": [
    {
     "name": "stdout",
     "output_type": "stream",
     "text": [
      "Processing image with OCR...\n"
     ]
    }
   ],
   "source": [
    "result_certificado_medico = upload_and_process('/Users/sophiebald/Desktop/test_documents/certificado_medico.png')"
   ]
  },
  {
   "cell_type": "code",
   "execution_count": 28,
   "metadata": {},
   "outputs": [
    {
     "data": {
      "text/plain": [
       "'MEDICAL, OTHER'"
      ]
     },
     "execution_count": 28,
     "metadata": {},
     "output_type": "execute_result"
    }
   ],
   "source": [
    "result_certificado_medico"
   ]
  },
  {
   "cell_type": "code",
   "execution_count": 29,
   "metadata": {},
   "outputs": [
    {
     "name": "stdout",
     "output_type": "stream",
     "text": [
      "Processing image with OCR...\n"
     ]
    }
   ],
   "source": [
    "result_arbitration = upload_and_process('/Users/sophiebald/Desktop/test_documents/arbitration_agreement.jpg')"
   ]
  },
  {
   "cell_type": "code",
   "execution_count": 30,
   "metadata": {},
   "outputs": [
    {
     "data": {
      "text/plain": [
       "'LEGAL, OTHER'"
      ]
     },
     "execution_count": 30,
     "metadata": {},
     "output_type": "execute_result"
    }
   ],
   "source": [
    "result_arbitration"
   ]
  },
  {
   "cell_type": "code",
   "execution_count": 31,
   "metadata": {},
   "outputs": [
    {
     "name": "stdout",
     "output_type": "stream",
     "text": [
      "No selectable text found in PDF. Using OCR...\n",
      "Running OCR on page 1...\n",
      "Running OCR on page 2...\n",
      "Running OCR on page 3...\n",
      "Running OCR on page 4...\n",
      "Running OCR on page 5...\n",
      "Running OCR on page 6...\n",
      "Running OCR on page 7...\n",
      "Running OCR on page 8...\n"
     ]
    }
   ],
   "source": [
    "result_public_mass = upload_and_process('/Users/sophiebald/Desktop/test_documents/PublicWaterMassMailing.pdf')"
   ]
  },
  {
   "cell_type": "code",
   "execution_count": 32,
   "metadata": {},
   "outputs": [
    {
     "data": {
      "text/plain": [
       "'LEGAL, OTHER'"
      ]
     },
     "execution_count": 32,
     "metadata": {},
     "output_type": "execute_result"
    }
   ],
   "source": [
    "result_public_mass"
   ]
  },
  {
   "cell_type": "code",
   "execution_count": 33,
   "metadata": {},
   "outputs": [
    {
     "name": "stdout",
     "output_type": "stream",
     "text": [
      "Processing image with OCR...\n"
     ]
    }
   ],
   "source": [
    "result_medical_report = upload_and_process('/Users/sophiebald/Desktop/test_documents/medical_report_chewy.png')"
   ]
  },
  {
   "cell_type": "code",
   "execution_count": 34,
   "metadata": {},
   "outputs": [
    {
     "data": {
      "text/plain": [
       "'MEDICAL, REPORTS'"
      ]
     },
     "execution_count": 34,
     "metadata": {},
     "output_type": "execute_result"
    }
   ],
   "source": [
    "result_medical_report"
   ]
  },
  {
   "cell_type": "code",
   "execution_count": 35,
   "metadata": {},
   "outputs": [
    {
     "name": "stdout",
     "output_type": "stream",
     "text": [
      "Processing image with OCR...\n"
     ]
    }
   ],
   "source": [
    "result_acta_previa = upload_and_process('/Users/sophiebald/Desktop/test_documents/acta_previa.jpg')"
   ]
  },
  {
   "cell_type": "code",
   "execution_count": 36,
   "metadata": {},
   "outputs": [
    {
     "data": {
      "text/plain": [
       "'LEGAL, ADMINISTRATIVE'"
      ]
     },
     "execution_count": 36,
     "metadata": {},
     "output_type": "execute_result"
    }
   ],
   "source": [
    "result_acta_previa"
   ]
  },
  {
   "cell_type": "code",
   "execution_count": 37,
   "metadata": {},
   "outputs": [
    {
     "name": "stdout",
     "output_type": "stream",
     "text": [
      "Processing image with OCR...\n"
     ]
    }
   ],
   "source": [
    "result_correu = upload_and_process('/Users/sophiebald/Desktop/test_documents/correu_condis.png')"
   ]
  },
  {
   "cell_type": "code",
   "execution_count": 38,
   "metadata": {},
   "outputs": [
    {
     "data": {
      "text/plain": [
       "'LEGAL, OTHER'"
      ]
     },
     "execution_count": 38,
     "metadata": {},
     "output_type": "execute_result"
    }
   ],
   "source": [
    "result_correu"
   ]
  },
  {
   "cell_type": "code",
   "execution_count": 39,
   "metadata": {},
   "outputs": [],
   "source": [
    "result_doctor_report = upload_and_process('/Users/sophiebald/Desktop/test_documents/doctor_report.pdf')"
   ]
  },
  {
   "cell_type": "code",
   "execution_count": 40,
   "metadata": {},
   "outputs": [
    {
     "data": {
      "text/plain": [
       "'MEDICAL, REPORTS'"
      ]
     },
     "execution_count": 40,
     "metadata": {},
     "output_type": "execute_result"
    }
   ],
   "source": [
    "result_doctor_report"
   ]
  },
  {
   "cell_type": "code",
   "execution_count": 41,
   "metadata": {},
   "outputs": [],
   "source": [
    "result_doctor_file = upload_and_process('/Users/sophiebald/Desktop/test_documents/doctor_file.pdf')"
   ]
  },
  {
   "cell_type": "code",
   "execution_count": 42,
   "metadata": {},
   "outputs": [
    {
     "data": {
      "text/plain": [
       "'LEGAL, OTHER'"
      ]
     },
     "execution_count": 42,
     "metadata": {},
     "output_type": "execute_result"
    }
   ],
   "source": [
    "result_doctor_file"
   ]
  },
  {
   "cell_type": "code",
   "execution_count": 43,
   "metadata": {},
   "outputs": [],
   "source": [
    "result_malpractice_claim = upload_and_process('/Users/sophiebald/Desktop/test_documents/claim_medical_malpractice.pdf')"
   ]
  },
  {
   "cell_type": "code",
   "execution_count": 44,
   "metadata": {},
   "outputs": [
    {
     "data": {
      "text/plain": [
       "'LEGAL, OTHER'"
      ]
     },
     "execution_count": 44,
     "metadata": {},
     "output_type": "execute_result"
    }
   ],
   "source": [
    "result_malpractice_claim"
   ]
  },
  {
   "cell_type": "code",
   "execution_count": 45,
   "metadata": {},
   "outputs": [],
   "source": [
    "result_historial_medic = upload_and_process('/Users/sophiebald/Desktop/test_documents/HISTORIAL_MÈDIC.pdf')"
   ]
  },
  {
   "cell_type": "code",
   "execution_count": 46,
   "metadata": {},
   "outputs": [
    {
     "data": {
      "text/plain": [
       "'MEDICAL, MEDICAL HISTORY'"
      ]
     },
     "execution_count": 46,
     "metadata": {},
     "output_type": "execute_result"
    }
   ],
   "source": [
    "result_historial_medic"
   ]
  },
  {
   "cell_type": "code",
   "execution_count": 47,
   "metadata": {},
   "outputs": [],
   "source": [
    "result_dci = upload_and_process('/Users/sophiebald/Desktop/test_documents/diagnostic_clinic_inicial.pdf')"
   ]
  },
  {
   "cell_type": "markdown",
   "metadata": {},
   "source": [
    "The tag below is technically wrong since there's a sub-label INITIAL CLINICAL DIAGNOSIS, it seems to struggle if there's not explicitly the words"
   ]
  },
  {
   "cell_type": "code",
   "execution_count": 48,
   "metadata": {},
   "outputs": [
    {
     "data": {
      "text/plain": [
       "'MEDICAL, REPORTS'"
      ]
     },
     "execution_count": 48,
     "metadata": {},
     "output_type": "execute_result"
    }
   ],
   "source": [
    "result_dci"
   ]
  },
  {
   "cell_type": "code",
   "execution_count": 49,
   "metadata": {},
   "outputs": [],
   "source": [
    "result_email_legal = upload_and_process('/Users/sophiebald/Desktop/test_documents/email_legal.pdf')"
   ]
  },
  {
   "cell_type": "markdown",
   "metadata": {},
   "source": [
    "The tag below is wrong, it should be email, but raise: email could be a subcategory of legal?"
   ]
  },
  {
   "cell_type": "code",
   "execution_count": 50,
   "metadata": {},
   "outputs": [
    {
     "data": {
      "text/plain": [
       "'LEGAL, OTHER'"
      ]
     },
     "execution_count": 50,
     "metadata": {},
     "output_type": "execute_result"
    }
   ],
   "source": [
    "result_email_legal"
   ]
  }
 ],
 "metadata": {
  "kernelspec": {
   "display_name": "base",
   "language": "python",
   "name": "python3"
  },
  "language_info": {
   "codemirror_mode": {
    "name": "ipython",
    "version": 3
   },
   "file_extension": ".py",
   "mimetype": "text/x-python",
   "name": "python",
   "nbconvert_exporter": "python",
   "pygments_lexer": "ipython3",
   "version": "3.12.4"
  }
 },
 "nbformat": 4,
 "nbformat_minor": 2
}
