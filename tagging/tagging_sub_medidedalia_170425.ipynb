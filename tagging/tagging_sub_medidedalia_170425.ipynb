{
 "cells": [
  {
   "cell_type": "code",
   "execution_count": 10,
   "metadata": {},
   "outputs": [],
   "source": [
    "import requests\n",
    "import os\n",
    "import urllib3\n",
    "import json"
   ]
  },
  {
   "cell_type": "code",
   "execution_count": 11,
   "metadata": {},
   "outputs": [],
   "source": [
    "def get_text(file_path):\n",
    "    urllib3.disable_warnings(urllib3.exceptions.InsecureRequestWarning)\n",
    "\n",
    "    headers = {\n",
    "        'Authorization': 'Bearer YOUR_TOKEN_HERE',\n",
    "    }\n",
    "\n",
    "    try:\n",
    "        with open(file_path, 'rb') as file:\n",
    "            files = {\n",
    "                'file': (os.path.basename(file_path), file, 'application/pdf')\n",
    "            }\n",
    "\n",
    "            response = requests.post('https://grupmedai-api-des.itcomb.cat/pdf/text', headers=headers, files=files, verify=False)\n",
    "\n",
    "            if response.status_code == 200:\n",
    "                response_data = response.json()\n",
    "                if 'content' in response_data:\n",
    "                    text = response_data['content']\n",
    "                    return text\n",
    "                else:\n",
    "                    print(\"Error: 'content' key not found in the response.\")\n",
    "                    return response_data\n",
    "            else:\n",
    "                print(f\"Error: Received status code {response.status_code}\")\n",
    "                print(f\"Response: {response.json()}\")\n",
    "                return None\n",
    "\n",
    "    except FileNotFoundError:\n",
    "        print(f\"Error: File {file_path} not found.\")\n",
    "        return None\n",
    "    except Exception as e:\n",
    "        print(f\"An error occurred: {e}\")\n",
    "        return None"
   ]
  },
  {
   "cell_type": "code",
   "execution_count": 12,
   "metadata": {},
   "outputs": [
    {
     "data": {
      "text/plain": [
       "'HISTORIAL MÈDIC \\nHospital Clínic de Barcelona \\nDepartament de Medicina Interna \\n \\nInformació del Pacient \\n• \\nNom complet: Marc Ferrer Puig \\n• \\nData de naixement: 5 d’abril de 1982 \\n• \\nEdat: 42 anys \\n• \\nGènere: Masculí \\n• \\nTelèfon: +34 678 123 456 \\n• \\nCorreu electrònic: marcferrer82@email.com \\n• \\nAdreça: Carrer Balmes, 123, 4t 2a, 08008 Barcelona \\n• \\nContacte d’emergència:  \\no Nom: Laura Martí Soler (Esposa) \\no Telèfon: +34 654 987 321 \\n \\nAntecedents Mèdics \\n• \\nMalalties cròniques: \\no Hipertensió arterial diagnosticada el 2018 \\no Diabetis tipus 2 diagnosticada el 2021 \\no Asma lleu des de la infància \\n• \\nCirurgies prèvies: \\no Apendicectomia (2005) \\no Reparació d’hèrnia inguinal (2017) \\n• \\nAl·lèrgies conegudes: \\no Penicil·lina (reacció anafilàctica) \\no Fruits secs (urticària moderada) \\n• \\nHistorial familiar: \\no Pare: Cardiopatia isquèmica (defunció als 65 anys) \\no Mare: Diabetis tipus 2 \\no Germà: Hipertensió arterial \\n \\nMedicació Actual \\n• \\nEnalapril 10 mg – 1 comprimit al matí (hipertensió) \\n• \\nMetformina 850 mg – 1 comprimit dos cops al dia (diabetis) \\n• \\nSalbutamol (inhalador) – Ús segons necessitat (asma) \\n \\nVisites i Diagnòstics Recents \\nÚltima consulta: 10 de febrer de 2025 \\n• \\nMotiu de la visita: Control de diabetis i hipertensió \\n• \\nSignes vitals:  \\no Pressió arterial: 145/90 mmHg \\no Glucosa en dejú: 140 mg/dL \\no Pes: 87 kg \\no IMC: 28.5 (sobrepès moderat) \\n• \\nObservacions:  \\no Es recomana augmentar activitat física (mínim 30 minuts diaris). \\no Es recomana reduir consum de sal i sucres refinats. \\no Es prescriu monitoratge continu de la glucosa. \\n \\nUrgències Recents \\nData: 3 de gener de 2025 \\n• \\nMotiu d’ingrés: Crisis hipertensiva (180/110 mmHg) i cefalea intensa \\n• \\nTractament:  \\no Administració d’antihipertensius intravenosos \\no Observació durant 12 hores \\no Alta amb recomanació de seguiment estricte amb el metge de capçalera \\n \\nEstil de Vida i Hàbits \\n• \\nFumador: No \\n• \\nConsum d’alcohol: Esporàdic (1-2 copes de vi per setmana) \\n• \\nDieta: Rica en proteïnes, però amb excés de carbohidrats processats \\n• \\nActivitat física: Sedentari, feina d’oficina, camina ocasionalment \\n \\nExàmens Complementaris Recents \\n• \\nElectrocardiograma (ECG): Sense alteracions significatives (gener 2025) \\n• \\nAnalítica sanguínia (febrer 2025):  \\no Hemoglobina glicada: 7.2% (lleugerament elevada) \\no Colesterol LDL: 135 mg/dL (elevat) \\no Colesterol HDL: 42 mg/dL (baix) \\no Triglicèrids: 190 mg/dL (moderadament elevats) \\n \\nPlans de Tractament i Recomanacions \\n• \\nSeguiment: Revisió en tres mesos amb control de tensió i glucosa \\n• \\nTractament modificat:  \\no Augmentar dosi d’Enalapril si PA continua elevada \\no Es valora addició de nou hipoglucemiant \\n• \\nCanvis d’estil de vida:  \\no Dieta mediterrània estricta \\no Augment de l’exercici físic \\no Control del pes corporal \\n \\nSignatura del Metge \\nDr. Antoni Soler Vives \\nMetge Internista \\nHospital Clínic de Barcelona \\nData: 18 de març de 2025 \\n'"
      ]
     },
     "execution_count": 12,
     "metadata": {},
     "output_type": "execute_result"
    }
   ],
   "source": [
    "get_text(r\"C:\\Users\\Sophie\\Tagging code\\documents\\HISTORIAL_MÈDIC.pdf\")"
   ]
  },
  {
   "cell_type": "code",
   "execution_count": 13,
   "metadata": {},
   "outputs": [],
   "source": [
    "def upload_and_process(document_path, prompt=None):\n",
    "\n",
    "    file_data = get_text(document_path)\n",
    "\n",
    "    if prompt is None:\n",
    "        prompt = f\"\"\"Label this document into one of the following categories: LEGAL, MEDICAL, EMAIL. \n",
    "        \n",
    "        Return only the label. Example: LEGAL\n",
    "        \n",
    "        Document information:\n",
    "        {file_data}\n",
    "        \"\"\"\n",
    "\n",
    "        prompt_legal = f\"\"\"This document is a LEGAL document. Add an appropriate sub-label:\n",
    "        - ACTS\n",
    "        - ACKNOWLEDGMENT OF RECEIPT\n",
    "        - RESOLUTIONS OR CLOSURE\n",
    "        - NOTICES\n",
    "        - REPORTS\n",
    "        - GUARANTEES OR DEPOSITS\n",
    "        - ADMINISTRATIVE\n",
    "        - PRELIMINARY PROCEEDINGS\n",
    "        - PAYMENTS OR COMPENSATIONS\n",
    "        - APPEAL\n",
    "        - POWER OF ATTORNEY\n",
    "        - SENTENCE\n",
    "        - OTHER\n",
    "\n",
    "        If possible, avoid using OTHER and try to find the right category. \n",
    "\n",
    "        Return only the sub-label. Example: REPORTS\n",
    "\n",
    "        Document information:\n",
    "        {file_data}\n",
    "        \"\"\"\n",
    "        prompt_medical = f\"\"\"This document is a MEDICAL document. Add an appropriate sub-label:\n",
    "        - REPORTS\n",
    "        - MEDICAL HISTORY\n",
    "        - MEDICAL CERTIFICATE\n",
    "        - INITIAL CLINICAL DIAGNOSIS\n",
    "        - SEQUELAE STABILIZATION\n",
    "        - OTHER\n",
    "\n",
    "        If possible, avoid using OTHER and try to find the right category.\n",
    "\n",
    "        Return only the sub-label. Example: MEDICAL HISTORY\n",
    "\n",
    "        Document information:\n",
    "        {file_data}\n",
    "        \"\"\"\n",
    "\n",
    "    try:\n",
    "        destination_url = \"https://grupmedai-api-des.itcomb.cat/llm/generate\"\n",
    "        headers = {\n",
    "        'Authorization':  'Bearer YOUR_ACCESS_TOKEN',\n",
    "        'Content-Type': 'application/json'\n",
    "        }\n",
    "        \n",
    "        data = {\n",
    "            \"model\": \"llama3.1:8b\",\n",
    "            \"prompt\": prompt\n",
    "        }\n",
    "\n",
    "        response = requests.post(\n",
    "            destination_url,\n",
    "            headers=headers,\n",
    "            data=json.dumps(data),\n",
    "            verify=False\n",
    "        )\n",
    "\n",
    "        if response.status_code == 200:\n",
    "            label = response.json().get('text', '')\n",
    "        \n",
    "        else:\n",
    "            raise Exception(f\"API request failed: {response.status_code}, {response.text}\")\n",
    "        \n",
    "        sublabel = None\n",
    "        \n",
    "        if label == 'LEGAL':\n",
    "            subprompt = prompt_legal\n",
    "        elif label == 'MEDICAL':\n",
    "            subprompt = prompt_medical\n",
    "        else:\n",
    "            return label\n",
    "        \n",
    "        data = {\n",
    "                \"model\": \"llama3.1:8b\",\n",
    "                \"prompt\": subprompt\n",
    "            }\n",
    "\n",
    "        response_sublabel = requests.post(\n",
    "            destination_url,\n",
    "            headers=headers,\n",
    "            data=json.dumps(data),\n",
    "            verify=False\n",
    "        )\n",
    "\n",
    "        if response_sublabel.status_code == 200:\n",
    "            sublabel = response_sublabel.json().get('text', '')\n",
    "            return {\"label\": label, \"sublabel\": sublabel}\n",
    "            \n",
    "        else:\n",
    "            raise Exception(f\"API request failed: {response_sublabel.status_code}, {response_sublabel.text}\")\n",
    "   \n",
    "    except Exception as e:\n",
    "        print(f\"Error: {e}\")\n",
    "        return None"
   ]
  },
  {
   "cell_type": "code",
   "execution_count": 14,
   "metadata": {},
   "outputs": [
    {
     "data": {
      "text/plain": [
       "{'label': 'MEDICAL', 'sublabel': 'MEDICAL HISTORY'}"
      ]
     },
     "execution_count": 14,
     "metadata": {},
     "output_type": "execute_result"
    }
   ],
   "source": [
    "upload_and_process(r\"C:\\Users\\Sophie\\Tagging code\\documents\\HISTORIAL_MÈDIC.pdf\")"
   ]
  },
  {
   "cell_type": "code",
   "execution_count": 15,
   "metadata": {},
   "outputs": [
    {
     "data": {
      "text/plain": [
       "{'label': 'MEDICAL', 'sublabel': 'MEDICAL HISTORY'}"
      ]
     },
     "execution_count": 15,
     "metadata": {},
     "output_type": "execute_result"
    }
   ],
   "source": [
    "upload_and_process(r\"C:\\Users\\Sophie\\Tagging code\\documents\\diagnostic_clinic_inicial.pdf\")"
   ]
  },
  {
   "cell_type": "code",
   "execution_count": 16,
   "metadata": {},
   "outputs": [
    {
     "data": {
      "text/plain": [
       "{'label': 'LEGAL', 'sublabel': 'ADMINISTRATIVE'}"
      ]
     },
     "execution_count": 16,
     "metadata": {},
     "output_type": "execute_result"
    }
   ],
   "source": [
    "upload_and_process(r\"C:\\Users\\Sophie\\Tagging code\\documents\\claim_medical_malpractice.pdf\")"
   ]
  },
  {
   "cell_type": "code",
   "execution_count": 17,
   "metadata": {},
   "outputs": [
    {
     "data": {
      "text/plain": [
       "{'label': 'LEGAL', 'sublabel': 'REPORTS'}"
      ]
     },
     "execution_count": 17,
     "metadata": {},
     "output_type": "execute_result"
    }
   ],
   "source": [
    "upload_and_process(r\"C:\\Users\\Sophie\\Tagging code\\documents\\email_legal.pdf\")"
   ]
  },
  {
   "cell_type": "code",
   "execution_count": 18,
   "metadata": {},
   "outputs": [
    {
     "data": {
      "text/plain": [
       "{'label': 'MEDICAL', 'sublabel': 'MEDICAL HISTORY'}"
      ]
     },
     "execution_count": 18,
     "metadata": {},
     "output_type": "execute_result"
    }
   ],
   "source": [
    "upload_and_process(r\"C:\\Users\\Sophie\\Tagging code\\documents\\doctor_file.pdf\")"
   ]
  }
 ],
 "metadata": {
  "kernelspec": {
   "display_name": "Python 3",
   "language": "python",
   "name": "python3"
  },
  "language_info": {
   "codemirror_mode": {
    "name": "ipython",
    "version": 3
   },
   "file_extension": ".py",
   "mimetype": "text/x-python",
   "name": "python",
   "nbconvert_exporter": "python",
   "pygments_lexer": "ipython3",
   "version": "3.12.9"
  }
 },
 "nbformat": 4,
 "nbformat_minor": 2
}
