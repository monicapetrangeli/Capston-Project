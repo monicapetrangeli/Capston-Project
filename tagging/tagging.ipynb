{
 "cells": [
  {
   "cell_type": "code",
   "execution_count": null,
   "metadata": {},
   "outputs": [],
   "source": [
    "import urllib3\n",
    "import requests\n",
    "import json"
   ]
  },
  {
   "cell_type": "code",
   "execution_count": null,
   "metadata": {},
   "outputs": [],
   "source": [
    "api_url = \"https://grupmedai-api-des.itcomb.cat/llm/generate\""
   ]
  },
  {
   "cell_type": "code",
   "execution_count": null,
   "metadata": {},
   "outputs": [],
   "source": [
    "headers = {\n",
    "        'Authorization':  'Bearer YOUR_ACCESS_TOKEN',\n",
    "        'Content-Type': 'application/json'\n",
    "    }"
   ]
  },
  {
   "cell_type": "code",
   "execution_count": null,
   "metadata": {},
   "outputs": [],
   "source": [
    "def call_model(prompt):\n",
    "    urllib3.disable_warnings(urllib3.exceptions.InsecureRequestWarning)\n",
    "    destination_url = api_url\n",
    "    headers = headers\n",
    "    data = {\n",
    "        \"model\": \"llama3.1:8b\",\n",
    "        \"prompt\": prompt \n",
    "    }\n",
    "    response = requests.post(destination_url, headers=headers, data=json.dumps(data), verify=False)\n",
    "    if response.status_code == 200:\n",
    "        response_data = response.json().get('text', '')\n",
    "        return response_data\n",
    "\n",
    "    else:\n",
    "        raise Exception(f\"API request failed with status code {response.status_code}: {response.text}\")"
   ]
  },
  {
   "cell_type": "code",
   "execution_count": null,
   "metadata": {},
   "outputs": [],
   "source": [
    "def upload_and_tag(document):\n",
    "    try:\n",
    "        with open(document,'rb') as file:\n",
    "            files = {'file': (document, file, 'application/pdf')}\n",
    "            data = {\n",
    "                \"model\": \"llama3.1:8b\",\n",
    "                \"prompt\": \"Label this document into one of the following categories: Medical, Legal, Admin, Email. Return only the label.\"\n",
    "            }\n",
    "\n",
    "            response = requests.post(api_url, headers=headers, files=files, data=data)\n",
    "\n",
    "            if response.status_code == 200:\n",
    "                return response.json()\n",
    "            \n",
    "            else:\n",
    "                raise Exception(f\"API request failed with status code {response.status_code}: {response.text}\")\n",
    "    \n",
    "    except FileNotFoundError:\n",
    "        print(f\"Error: File '{document}' not found.\")\n",
    "        return None\n",
    "    \n",
    "    except requests.exceptions.RequestException as e:\n",
    "        print(f\"Error uploading the file: {e}\")\n",
    "        return None"
   ]
  }
 ],
 "metadata": {
  "kernelspec": {
   "display_name": "base",
   "language": "python",
   "name": "python3"
  },
  "language_info": {
   "codemirror_mode": {
    "name": "ipython",
    "version": 3
   },
   "file_extension": ".py",
   "mimetype": "text/x-python",
   "name": "python",
   "nbconvert_exporter": "python",
   "pygments_lexer": "ipython3",
   "version": "3.12.4"
  }
 },
 "nbformat": 4,
 "nbformat_minor": 2
}
