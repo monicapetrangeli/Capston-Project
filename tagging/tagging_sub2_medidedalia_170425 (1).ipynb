{
 "cells": [
  {
   "cell_type": "code",
   "execution_count": 1,
   "metadata": {},
   "outputs": [],
   "source": [
    "import requests\n",
    "import os\n",
    "import urllib3\n",
    "import json"
   ]
  },
  {
   "cell_type": "code",
   "execution_count": 2,
   "metadata": {},
   "outputs": [],
   "source": [
    "def get_text(file_path):\n",
    "    urllib3.disable_warnings(urllib3.exceptions.InsecureRequestWarning)\n",
    "\n",
    "    headers = {\n",
    "        'Authorization': 'Bearer YOUR_TOKEN_HERE',\n",
    "    }\n",
    "\n",
    "    try:\n",
    "        with open(file_path, 'rb') as file:\n",
    "            files = {\n",
    "                'file': (os.path.basename(file_path), file, 'application/pdf')\n",
    "            }\n",
    "\n",
    "            response = requests.post('https://grupmedai-api-des.itcomb.cat/pdf/text', headers=headers, files=files, verify=False)\n",
    "\n",
    "            if response.status_code == 200:\n",
    "                response_data = response.json()\n",
    "                if 'content' in response_data:\n",
    "                    text = response_data['content']\n",
    "                    return text\n",
    "                else:\n",
    "                    print(\"Error: 'content' key not found in the response.\")\n",
    "                    return response_data\n",
    "            else:\n",
    "                print(f\"Error: Received status code {response.status_code}\")\n",
    "                print(f\"Response: {response.json()}\")\n",
    "                return None\n",
    "\n",
    "    except FileNotFoundError:\n",
    "        print(f\"Error: File {file_path} not found.\")\n",
    "        return None\n",
    "    except Exception as e:\n",
    "        print(f\"An error occurred: {e}\")\n",
    "        return None"
   ]
  },
  {
   "cell_type": "code",
   "execution_count": 3,
   "metadata": {},
   "outputs": [
    {
     "data": {
      "text/plain": [
       "'HISTORIAL MÈDIC \\nHospital Clínic de Barcelona \\nDepartament de Medicina Interna \\n \\nInformació del Pacient \\n• \\nNom complet: Marc Ferrer Puig \\n• \\nData de naixement: 5 d’abril de 1982 \\n• \\nEdat: 42 anys \\n• \\nGènere: Masculí \\n• \\nTelèfon: +34 678 123 456 \\n• \\nCorreu electrònic: marcferrer82@email.com \\n• \\nAdreça: Carrer Balmes, 123, 4t 2a, 08008 Barcelona \\n• \\nContacte d’emergència:  \\no Nom: Laura Martí Soler (Esposa) \\no Telèfon: +34 654 987 321 \\n \\nAntecedents Mèdics \\n• \\nMalalties cròniques: \\no Hipertensió arterial diagnosticada el 2018 \\no Diabetis tipus 2 diagnosticada el 2021 \\no Asma lleu des de la infància \\n• \\nCirurgies prèvies: \\no Apendicectomia (2005) \\no Reparació d’hèrnia inguinal (2017) \\n• \\nAl·lèrgies conegudes: \\no Penicil·lina (reacció anafilàctica) \\no Fruits secs (urticària moderada) \\n• \\nHistorial familiar: \\no Pare: Cardiopatia isquèmica (defunció als 65 anys) \\no Mare: Diabetis tipus 2 \\no Germà: Hipertensió arterial \\n \\nMedicació Actual \\n• \\nEnalapril 10 mg – 1 comprimit al matí (hipertensió) \\n• \\nMetformina 850 mg – 1 comprimit dos cops al dia (diabetis) \\n• \\nSalbutamol (inhalador) – Ús segons necessitat (asma) \\n \\nVisites i Diagnòstics Recents \\nÚltima consulta: 10 de febrer de 2025 \\n• \\nMotiu de la visita: Control de diabetis i hipertensió \\n• \\nSignes vitals:  \\no Pressió arterial: 145/90 mmHg \\no Glucosa en dejú: 140 mg/dL \\no Pes: 87 kg \\no IMC: 28.5 (sobrepès moderat) \\n• \\nObservacions:  \\no Es recomana augmentar activitat física (mínim 30 minuts diaris). \\no Es recomana reduir consum de sal i sucres refinats. \\no Es prescriu monitoratge continu de la glucosa. \\n \\nUrgències Recents \\nData: 3 de gener de 2025 \\n• \\nMotiu d’ingrés: Crisis hipertensiva (180/110 mmHg) i cefalea intensa \\n• \\nTractament:  \\no Administració d’antihipertensius intravenosos \\no Observació durant 12 hores \\no Alta amb recomanació de seguiment estricte amb el metge de capçalera \\n \\nEstil de Vida i Hàbits \\n• \\nFumador: No \\n• \\nConsum d’alcohol: Esporàdic (1-2 copes de vi per setmana) \\n• \\nDieta: Rica en proteïnes, però amb excés de carbohidrats processats \\n• \\nActivitat física: Sedentari, feina d’oficina, camina ocasionalment \\n \\nExàmens Complementaris Recents \\n• \\nElectrocardiograma (ECG): Sense alteracions significatives (gener 2025) \\n• \\nAnalítica sanguínia (febrer 2025):  \\no Hemoglobina glicada: 7.2% (lleugerament elevada) \\no Colesterol LDL: 135 mg/dL (elevat) \\no Colesterol HDL: 42 mg/dL (baix) \\no Triglicèrids: 190 mg/dL (moderadament elevats) \\n \\nPlans de Tractament i Recomanacions \\n• \\nSeguiment: Revisió en tres mesos amb control de tensió i glucosa \\n• \\nTractament modificat:  \\no Augmentar dosi d’Enalapril si PA continua elevada \\no Es valora addició de nou hipoglucemiant \\n• \\nCanvis d’estil de vida:  \\no Dieta mediterrània estricta \\no Augment de l’exercici físic \\no Control del pes corporal \\n \\nSignatura del Metge \\nDr. Antoni Soler Vives \\nMetge Internista \\nHospital Clínic de Barcelona \\nData: 18 de març de 2025 \\n'"
      ]
     },
     "execution_count": 3,
     "metadata": {},
     "output_type": "execute_result"
    }
   ],
   "source": [
    "get_text(r\"C:\\Users\\Sophie\\Tagging code\\documents\\HISTORIAL_MÈDIC.pdf\")"
   ]
  },
  {
   "cell_type": "code",
   "execution_count": 4,
   "metadata": {},
   "outputs": [],
   "source": [
    "def upload_and_process(document_path, prompt=None):\n",
    "\n",
    "    file_data = get_text(document_path)\n",
    "\n",
    "    if prompt is None:\n",
    "        prompt = f\"\"\"Label this document into one of the following categories: LEGAL, MEDICAL, EMAIL. \n",
    "        \n",
    "        Return only the label. Example: LEGAL\n",
    "\n",
    "        An email typically includes the sender and receiver addresses and some formalities such as a greeting and a closing. If the document is an EMAIL, but it has a medical or legal theme, tag as EMAIL nonetheless.\n",
    "        \n",
    "        Document information:\n",
    "        {file_data}\n",
    "        \"\"\"\n",
    "\n",
    "        prompt_legal = f\"\"\"This document is a LEGAL document. Add an appropriate sub-label:\n",
    "        - ACTS (Record of previous hearing, Commission Minutes, Act of Conciliation, Act of preliminary diligences -- These documents formally record procedural steps, agreements, or outcomes within a legal or administrative process, often prepared by a judge, secretary, or official. They typically include the date, parties involved, the purpose or context of the meeting or action, and a summary of the decisions, declarations, or results.)\n",
    "        - ACKNOWLEDGMENT OF RECEIPT (This document confirms that a person or entity has received a specific item, document, or notification, often noting the date and method of delivery. It typically includes the recipient’s name, a description of what was received, and their signature or formal confirmation.)\n",
    "        - RESOLUTIONS OR CLOSURE (Archive/Dismissal, Decree, Administrative Resolution -- These documents formalize a decision that resolves, closes, or halts a legal or administrative proceeding, either partially or entirely. They typically include the reasoning behind the decision, the authority issuing it, and any legal consequences or next steps.)\n",
    "        - NOTICES (Notice of Previous Hearing, Notice of Judgment -- These documents notify the parties of the date, time, and place set for a procedural event, such as a preliminary hearing or trial. They are issued by the court and typically include the case reference, type of hearing, and instructions for attendance or preparation.)\n",
    "        - REPORTS (Attested, Medical Assesment Report, Claim Report, Resolution Letter, Lawyer's Report -- These documents present formal statements, evaluations, claims, or decisions submitted by parties, authorities, or legal professionals in the context of a legal or administrative procedure. They typically include the identity of the author, the facts or legal basis being addressed, and the purpose of the submission—whether to inform, accuse, defend, claim, or resolve.)\n",
    "        - GUARANTEES OR DEPOSITS (Certificate of Insurance, Incident Communication, Bail -- These documents relate to the existence, activation, or guarantee of coverage or responsibility in the event of a loss or legal obligation. They typically specify the parties involved, the insured object or risk, and key terms such as coverage limits, incident details, or financial guarantees provided.)\n",
    "        - ADMINISTRATIVE (Citation, Response to the Demand, Testimonial Statement, Demand, Complaint, Designate, Location, Doctor's File, Minute, Notification, Refusal, Requirement -- These documents are used to initiate, respond to, or support actions in legal or administrative proceedings, including summonses, claims, evidence, notices, or formal replies. They usually identify the parties involved, outline the purpose or action requested or taken, and include relevant procedural or factual details to move the process forward.)\n",
    "        - PRELIMINARY PROCEEDINGS (Preliminary Diligences, Previous Diligences -- These documents record early investigative steps taken before or at the outset of a legal process, aimed at clarifying facts, preserving evidence, or identifying the parties involved. They typically include a description of the actions ordered or carried out, their legal basis, and the authority under which they are conducted.)\n",
    "        - PAYMENTS OR COMPENSATIONS (Proof of Payment, Receipt, Collection, Cost Assessment -- These documents certify the payment, recovery, or assessment of financial amounts in a legal or contractual context. They typically state the amount involved, the parties concerned, the reason for the transaction, and may include signatures or official validation.)\n",
    "        - APPEAL (Opposition Appeal, Appeal -- These documents are part of appellate procedures where a party either challenges a prior decision or responds in opposition to that challenge. They typically outline the legal grounds, relevant facts, and the relief sought or the reasons for upholding the original decision.)\n",
    "        - POWER OF ATTORNEY (This document grants legal authority to a person (the attorney-in-fact) to act on behalf of another in legal or administrative matters. It typically specifies the scope of powers, the identities of the grantor and representative, and is signed before a notary or competent authority.)\n",
    "        - SENTENCE (Appeal Sentence, Judgment of Cassation, Judgment of First Instance -- These are formal court decisions issued at various stages of the judicial process— first instance, appeal, and cassation or supreme court review. Each sentence includes the facts, legal reasoning, final ruling, and the court’s authority, reflecting the procedural level and scope of review.)\n",
    "        - OTHER (Other documents, complementary documents)\n",
    "\n",
    "        Use only categories that are in the list. Do NOT create new ones.\n",
    "\n",
    "        Return only the sub-label. Example: REPORTS\n",
    "\n",
    "        Document information:\n",
    "        {file_data}\n",
    "        \"\"\"\n",
    "        prompt_medical = f\"\"\"This document is a MEDICAL document. Add an appropriate sub-label:\n",
    "        - REPORTS (Expanded Report, Forensic Report, External Expert Report, Internal Expert Report, Preliminary Report, Assessment of Bodily Harm -- These documents provide technical or professional assessments related to a medical, legal, or forensic matter, often used as evidence in investigations or proceedings. They typically include the expert’s credentials, methodology, findings, and conclusions—whether preliminary, expanded, internal, external, or specific.)\n",
    "        - MEDICAL HISTORY (Petition, Authorization, Clinical History -- These documents are part of the management and access to a patient’s medical records, including the creation, request, or authorization to consult them. They typically contain identifying data, the purpose (e.g., treatment, legal, or administrative use), and the patient’s consent when required, especially in the authorization and petition documents.)\n",
    "        - MEDICAL CERTIFICATE (This document is issued by a licensed healthcare professional to formally confirm a person’s health condition, diagnosis, treatment, or fitness for a specific activity. It typically includes the patient’s details, the medical findings, and the doctor's signature and credentials.)\n",
    "        - INITIAL CLINICAL DIAGNOSIS (This document records the healthcare provider’s first assessment of a patient’s condition based on symptoms, medical history, and initial examination. It typically includes the suspected diagnosis, relevant findings, and a proposed plan for further testing or treatment.)\n",
    "        - SEQUELAE STABILIZATION (This document confirms that the lasting effects (sequels) of an injury or illness have reached a stable state and are no longer expected to improve significantly. It typically includes a medical evaluation of the sequelae, their impact on function or quality of life, and the date of stabilization for legal or insurance purposes.)\n",
    "        - OTHER\n",
    "\n",
    "        Use only categories that are in the list. Do NOT create new ones.\n",
    "\n",
    "        Return only the sub-label. Example: MEDICAL HISTORY\n",
    "\n",
    "        Document information:\n",
    "        {file_data}\n",
    "        \"\"\"\n",
    "\n",
    "        prompt_email = f\"\"\" This document is an EMAIL. Add a sub-label: MEDICAL, LEGAL, OTHER.\n",
    "        Return only the sub-label. Example: LEGAL\n",
    "\n",
    "        Document information:\n",
    "        {file_data}\n",
    "        \"\"\"\n",
    "\n",
    "    try:\n",
    "        destination_url = \"https://grupmedai-api-des.itcomb.cat/llm/generate\"\n",
    "        headers = {\n",
    "        'Authorization':  'Bearer YOUR_ACCESS_TOKEN',\n",
    "        'Content-Type': 'application/json'\n",
    "        }\n",
    "        \n",
    "        data = {\n",
    "            \"model\": \"llama3.1:8b\",\n",
    "            \"prompt\": prompt\n",
    "        }\n",
    "\n",
    "        response = requests.post(\n",
    "            destination_url,\n",
    "            headers=headers,\n",
    "            data=json.dumps(data),\n",
    "            verify=False\n",
    "        )\n",
    "\n",
    "        if response.status_code == 200:\n",
    "            label = response.json().get('text', '')\n",
    "        \n",
    "        else:\n",
    "            raise Exception(f\"API request failed: {response.status_code}, {response.text}\")\n",
    "        \n",
    "        sublabel = None\n",
    "        \n",
    "        if label == 'LEGAL':\n",
    "            subprompt = prompt_legal\n",
    "        elif label == 'MEDICAL':\n",
    "            subprompt = prompt_medical\n",
    "        elif label == 'EMAIL':\n",
    "            subprompt = prompt_email\n",
    "        \n",
    "        data = {\n",
    "                \"model\": \"llama3.1:8b\",\n",
    "                \"prompt\": subprompt\n",
    "            }\n",
    "\n",
    "        response_sublabel = requests.post(\n",
    "            destination_url,\n",
    "            headers=headers,\n",
    "            data=json.dumps(data),\n",
    "            verify=False\n",
    "        )\n",
    "\n",
    "        if response_sublabel.status_code == 200:\n",
    "            sublabel = response_sublabel.json().get('text', '')\n",
    "            return {\"label\": label, \"sublabel\": sublabel}\n",
    "            \n",
    "        else:\n",
    "            raise Exception(f\"API request failed: {response_sublabel.status_code}, {response_sublabel.text}\")\n",
    "   \n",
    "    except Exception as e:\n",
    "        print(f\"Error: {e}\")\n",
    "        return None"
   ]
  },
  {
   "cell_type": "code",
   "execution_count": 5,
   "metadata": {},
   "outputs": [
    {
     "data": {
      "text/plain": [
       "{'label': 'MEDICAL', 'sublabel': 'MEDICAL HISTORY'}"
      ]
     },
     "execution_count": 5,
     "metadata": {},
     "output_type": "execute_result"
    }
   ],
   "source": [
    "upload_and_process(r\"C:\\Users\\Sophie\\Tagging code\\documents\\HISTORIAL_MÈDIC.pdf\")"
   ]
  },
  {
   "cell_type": "code",
   "execution_count": 6,
   "metadata": {},
   "outputs": [
    {
     "data": {
      "text/plain": [
       "{'label': 'MEDICAL', 'sublabel': 'MEDICAL HISTORY'}"
      ]
     },
     "execution_count": 6,
     "metadata": {},
     "output_type": "execute_result"
    }
   ],
   "source": [
    "upload_and_process(r\"C:\\Users\\Sophie\\Tagging code\\documents\\diagnostic_clinic_inicial.pdf\")"
   ]
  },
  {
   "cell_type": "code",
   "execution_count": 7,
   "metadata": {},
   "outputs": [
    {
     "data": {
      "text/plain": [
       "{'label': 'LEGAL', 'sublabel': 'ADMINISTRATIVE'}"
      ]
     },
     "execution_count": 7,
     "metadata": {},
     "output_type": "execute_result"
    }
   ],
   "source": [
    "upload_and_process(r\"C:\\Users\\Sophie\\Tagging code\\documents\\claim_medical_malpractice.pdf\")"
   ]
  },
  {
   "cell_type": "code",
   "execution_count": 8,
   "metadata": {},
   "outputs": [
    {
     "data": {
      "text/plain": [
       "{'label': 'EMAIL', 'sublabel': 'LEGAL'}"
      ]
     },
     "execution_count": 8,
     "metadata": {},
     "output_type": "execute_result"
    }
   ],
   "source": [
    "upload_and_process(r\"C:\\Users\\Sophie\\Tagging code\\documents\\email_legal.pdf\")"
   ]
  },
  {
   "cell_type": "code",
   "execution_count": 9,
   "metadata": {},
   "outputs": [
    {
     "data": {
      "text/plain": [
       "{'label': 'MEDICAL', 'sublabel': 'MEDICAL HISTORY'}"
      ]
     },
     "execution_count": 9,
     "metadata": {},
     "output_type": "execute_result"
    }
   ],
   "source": [
    "upload_and_process(r\"C:\\Users\\Sophie\\Tagging code\\documents\\doctor_file.pdf\")"
   ]
  }
 ],
 "metadata": {
  "kernelspec": {
   "display_name": "Python 3",
   "language": "python",
   "name": "python3"
  },
  "language_info": {
   "codemirror_mode": {
    "name": "ipython",
    "version": 3
   },
   "file_extension": ".py",
   "mimetype": "text/x-python",
   "name": "python",
   "nbconvert_exporter": "python",
   "pygments_lexer": "ipython3",
   "version": "3.12.9"
  }
 },
 "nbformat": 4,
 "nbformat_minor": 2
}
